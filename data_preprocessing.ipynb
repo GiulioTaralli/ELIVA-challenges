{
 "cells": [
  {
   "cell_type": "markdown",
   "id": "dbc0eff7",
   "metadata": {},
   "source": [
    "### **RSNA DATASET PREPROCESSING**"
   ]
  },
  {
   "cell_type": "code",
   "execution_count": 91,
   "id": "e04ea032",
   "metadata": {},
   "outputs": [],
   "source": [
    "import pandas as pd\n",
    "import os\n",
    "import numpy as np"
   ]
  },
  {
   "cell_type": "code",
   "execution_count": 92,
   "id": "1f62491f",
   "metadata": {},
   "outputs": [
    {
     "name": "stdout",
     "output_type": "stream",
     "text": [
      "Total: 12811\n",
      "Training lenght: 12611\n",
      "Test lenght: 200\n",
      "Proportion training set: 0.984388416204824\n",
      "Proportion test set: 0.01561158379517602\n"
     ]
    }
   ],
   "source": [
    "path_RSNA_train = \"./rsna-bone-age/boneage-training-dataset.csv\"\n",
    "path_RSNA_test = \"./rsna-bone-age/boneage-test-dataset.csv\"\n",
    "df_train = pd.read_csv(path_RSNA_train)\n",
    "df_test = pd.read_csv(path_RSNA_test)\n",
    "\n",
    "total = len(df_train) + len(df_test)\n",
    "print(f\"Total: {total}\")\n",
    "print(f\"Training lenght: {len(df_train)}\")\n",
    "print(f\"Test lenght: {len(df_test)}\")\n",
    "\n",
    "print(f\"Proportion training set: {len(df_train)/total}\")\n",
    "print(f\"Proportion test set: {len(df_test)/total}\")"
   ]
  },
  {
   "cell_type": "code",
   "execution_count": 93,
   "id": "a1855659",
   "metadata": {},
   "outputs": [
    {
     "name": "stdout",
     "output_type": "stream",
     "text": [
      "          id  boneage   male  left source  \\\n",
      "0       1377      180  False  True   rsna   \n",
      "1       1378       12  False  True   rsna   \n",
      "2       1379       94  False  True   rsna   \n",
      "3       1380      120   True  True   rsna   \n",
      "4       1381       82  False  True   rsna   \n",
      "...      ...      ...    ...   ...    ...   \n",
      "12606  15605       50  False  True   rsna   \n",
      "12607  15606      113  False  True   rsna   \n",
      "12608  15608       55  False  True   rsna   \n",
      "12609  15609      150   True  True   rsna   \n",
      "12610  15610      132   True  True   rsna   \n",
      "\n",
      "                                                    path filename  \n",
      "0      ./rsna-bone-age/boneage-training-dataset/bonea...     None  \n",
      "1      ./rsna-bone-age/boneage-training-dataset/bonea...     None  \n",
      "2      ./rsna-bone-age/boneage-training-dataset/bonea...     None  \n",
      "3      ./rsna-bone-age/boneage-training-dataset/bonea...     None  \n",
      "4      ./rsna-bone-age/boneage-training-dataset/bonea...     None  \n",
      "...                                                  ...      ...  \n",
      "12606  ./rsna-bone-age/boneage-training-dataset/bonea...     None  \n",
      "12607  ./rsna-bone-age/boneage-training-dataset/bonea...     None  \n",
      "12608  ./rsna-bone-age/boneage-training-dataset/bonea...     None  \n",
      "12609  ./rsna-bone-age/boneage-training-dataset/bonea...     None  \n",
      "12610  ./rsna-bone-age/boneage-training-dataset/bonea...     None  \n",
      "\n",
      "[12611 rows x 7 columns]\n"
     ]
    }
   ],
   "source": [
    "path = \"./rsna-bone-age/boneage-training-dataset/boneage-training-dataset/\"\n",
    "\n",
    "df_train[\"left\"] = True\n",
    "df_train[\"source\"] = \"rsna\"\n",
    "df_train[\"path\"] = path + df_train[\"id\"].astype(str) + \".png\"\n",
    "df_train[\"filename\"] = None\n",
    "print(df_train)"
   ]
  },
  {
   "cell_type": "code",
   "execution_count": 94,
   "id": "2303af13",
   "metadata": {},
   "outputs": [],
   "source": [
    "df_train.to_csv(\"./rsna_dataset.csv\", index=False)"
   ]
  },
  {
   "cell_type": "markdown",
   "id": "e45e30d3",
   "metadata": {},
   "source": [
    "### **GRAZPEDWRI DATASET PREPROCESSING**"
   ]
  },
  {
   "cell_type": "code",
   "execution_count": 95,
   "id": "3e5aefa0",
   "metadata": {},
   "outputs": [],
   "source": [
    "# part1: 0001 - 1499\n",
    "# part2: 1500 - 2999\n",
    "# part3: 3000 - 4499\n",
    "# part4: 4500 - 6093"
   ]
  },
  {
   "cell_type": "code",
   "execution_count": 96,
   "id": "dedc9849",
   "metadata": {},
   "outputs": [
    {
     "name": "stdout",
     "output_type": "stream",
     "text": [
      "Training lenght: 20327\n"
     ]
    }
   ],
   "source": [
    "path_GRAZPEDWRI_train = \"./grazpedwri/dataset.csv\"\n",
    "df_train = pd.read_csv(path_GRAZPEDWRI_train)\n",
    "\n",
    "print(f\"Training lenght: {len(df_train)}\")"
   ]
  },
  {
   "cell_type": "code",
   "execution_count": 97,
   "id": "651f6ab1",
   "metadata": {},
   "outputs": [
    {
     "name": "stdout",
     "output_type": "stream",
     "text": [
      "                             filestem  patient_id gender   age laterality  \\\n",
      "0      0001_1297860395_01_WRI-L1_M014           1      M  14.1          L   \n",
      "1      0001_1297860435_01_WRI-L2_M014           1      M  14.1          L   \n",
      "2      0002_0354485735_01_WRI-R1_F012           2      F  12.0          R   \n",
      "3      0002_0354485759_01_WRI-R2_F012           2      F  12.0          R   \n",
      "4      0003_0662359226_01_WRI-R1_M011           3      M  11.1          R   \n",
      "...                               ...         ...    ...   ...        ...   \n",
      "20322  6091_0590289015_02_WRI-L2_F008        6091      F   8.7          L   \n",
      "20323  6092_0295935784_01_WRI-L1_M003        6092      M   3.5          L   \n",
      "20324  6092_0295935837_01_WRI-L2_M003        6092      M   3.5          L   \n",
      "20325  6093_0885712402_01_WRI-L1_M008        6093      M   8.4          L   \n",
      "20326  6093_0885712456_01_WRI-L2_M008        6093      M   8.4          L   \n",
      "\n",
      "       projection  \n",
      "0               1  \n",
      "1               2  \n",
      "2               1  \n",
      "3               2  \n",
      "4               1  \n",
      "...           ...  \n",
      "20322           2  \n",
      "20323           1  \n",
      "20324           2  \n",
      "20325           1  \n",
      "20326           2  \n",
      "\n",
      "[20327 rows x 6 columns]\n"
     ]
    }
   ],
   "source": [
    "df_train = df_train.drop(columns=[\"study_number\", \"timehash\", \"initial_exam\", \"ao_classification\", \"cast\", \"diagnosis_uncertain\",\n",
    "               \"osteopenia\", \"fracture_visible\", \"metal\", \"pixel_spacing\", \"device_manufacturer\"])\n",
    "print(df_train)"
   ]
  },
  {
   "cell_type": "code",
   "execution_count": 98,
   "id": "3d358fd3",
   "metadata": {},
   "outputs": [
    {
     "name": "stdout",
     "output_type": "stream",
     "text": [
      "10086\n"
     ]
    }
   ],
   "source": [
    "df_train = df_train[df_train[\"projection\"] < 2]\n",
    "print(len(df_train))"
   ]
  },
  {
   "cell_type": "code",
   "execution_count": 99,
   "id": "5b76b11d",
   "metadata": {},
   "outputs": [
    {
     "name": "stdout",
     "output_type": "stream",
     "text": [
      "                             filestem  patient_id   age laterality   male\n",
      "0      0001_1297860395_01_WRI-L1_M014           1  14.1          L   True\n",
      "2      0002_0354485735_01_WRI-R1_F012           2  12.0          R  False\n",
      "4      0003_0662359226_01_WRI-R1_M011           3  11.1          R   True\n",
      "6      0003_0663715732_02_WRI-R1_M011           3  11.2          R   True\n",
      "8      0003_0664918633_03_WRI-R1_M011           3  11.2          R   True\n",
      "...                               ...         ...   ...        ...    ...\n",
      "20317  6090_0842599897_01_WRI-L1_M011        6090  11.0          L   True\n",
      "20319  6090_0843973809_02_WRI-L1_M011        6090  11.1          L   True\n",
      "20321  6091_0590288977_01_WRI-L1_F008        6091   8.7          L  False\n",
      "20323  6092_0295935784_01_WRI-L1_M003        6092   3.5          L   True\n",
      "20325  6093_0885712402_01_WRI-L1_M008        6093   8.4          L   True\n",
      "\n",
      "[10086 rows x 5 columns]\n"
     ]
    }
   ],
   "source": [
    "df_train[\"male\"]  = df_train[\"gender\"] == \"M\"\n",
    "df_train = df_train.drop(columns=[\"gender\", \"projection\"])\n",
    "print(df_train)"
   ]
  },
  {
   "cell_type": "code",
   "execution_count": 100,
   "id": "8622dada",
   "metadata": {},
   "outputs": [
    {
     "name": "stdout",
     "output_type": "stream",
     "text": [
      "                             filestem  patient_id    age laterality   male\n",
      "0      0001_1297860395_01_WRI-L1_M014           1  169.2          L   True\n",
      "2      0002_0354485735_01_WRI-R1_F012           2  144.0          R  False\n",
      "4      0003_0662359226_01_WRI-R1_M011           3  133.2          R   True\n",
      "6      0003_0663715732_02_WRI-R1_M011           3  134.4          R   True\n",
      "8      0003_0664918633_03_WRI-R1_M011           3  134.4          R   True\n",
      "...                               ...         ...    ...        ...    ...\n",
      "20317  6090_0842599897_01_WRI-L1_M011        6090  132.0          L   True\n",
      "20319  6090_0843973809_02_WRI-L1_M011        6090  133.2          L   True\n",
      "20321  6091_0590288977_01_WRI-L1_F008        6091  104.4          L  False\n",
      "20323  6092_0295935784_01_WRI-L1_M003        6092   42.0          L   True\n",
      "20325  6093_0885712402_01_WRI-L1_M008        6093  100.8          L   True\n",
      "\n",
      "[10086 rows x 5 columns]\n"
     ]
    }
   ],
   "source": [
    "df_train[\"age\"]  = df_train[\"age\"] * 12\n",
    "print(df_train)"
   ]
  },
  {
   "cell_type": "code",
   "execution_count": 101,
   "id": "b059970c",
   "metadata": {},
   "outputs": [
    {
     "name": "stdout",
     "output_type": "stream",
     "text": [
      "                             filestem  patient_id    age   male   left\n",
      "0      0001_1297860395_01_WRI-L1_M014           1  169.2   True   True\n",
      "2      0002_0354485735_01_WRI-R1_F012           2  144.0  False  False\n",
      "4      0003_0662359226_01_WRI-R1_M011           3  133.2   True  False\n",
      "6      0003_0663715732_02_WRI-R1_M011           3  134.4   True  False\n",
      "8      0003_0664918633_03_WRI-R1_M011           3  134.4   True  False\n",
      "...                               ...         ...    ...    ...    ...\n",
      "20317  6090_0842599897_01_WRI-L1_M011        6090  132.0   True   True\n",
      "20319  6090_0843973809_02_WRI-L1_M011        6090  133.2   True   True\n",
      "20321  6091_0590288977_01_WRI-L1_F008        6091  104.4  False   True\n",
      "20323  6092_0295935784_01_WRI-L1_M003        6092   42.0   True   True\n",
      "20325  6093_0885712402_01_WRI-L1_M008        6093  100.8   True   True\n",
      "\n",
      "[10086 rows x 5 columns]\n"
     ]
    }
   ],
   "source": [
    "df_train[\"left\"]  = df_train[\"laterality\"] == \"L\"\n",
    "df_train = df_train.drop(columns=[\"laterality\"])\n",
    "print(df_train)"
   ]
  },
  {
   "cell_type": "code",
   "execution_count": 102,
   "id": "7d5a2e8c",
   "metadata": {},
   "outputs": [
    {
     "name": "stdout",
     "output_type": "stream",
     "text": [
      "       patient_id    age   male   left  \\\n",
      "0               1  169.2   True   True   \n",
      "2               2  144.0  False  False   \n",
      "4               3  133.2   True  False   \n",
      "6               3  134.4   True  False   \n",
      "8               3  134.4   True  False   \n",
      "...           ...    ...    ...    ...   \n",
      "20317        6090  132.0   True   True   \n",
      "20319        6090  133.2   True   True   \n",
      "20321        6091  104.4  False   True   \n",
      "20323        6092   42.0   True   True   \n",
      "20325        6093  100.8   True   True   \n",
      "\n",
      "                                                    path  \n",
      "0      ./grazpedwri/images_part1/0001_1297860395_01_W...  \n",
      "2      ./grazpedwri/images_part1/0002_0354485735_01_W...  \n",
      "4      ./grazpedwri/images_part1/0003_0662359226_01_W...  \n",
      "6      ./grazpedwri/images_part1/0003_0663715732_02_W...  \n",
      "8      ./grazpedwri/images_part1/0003_0664918633_03_W...  \n",
      "...                                                  ...  \n",
      "20317  ./grazpedwri/images_part4/6090_0842599897_01_W...  \n",
      "20319  ./grazpedwri/images_part4/6090_0843973809_02_W...  \n",
      "20321  ./grazpedwri/images_part4/6091_0590288977_01_W...  \n",
      "20323  ./grazpedwri/images_part4/6092_0295935784_01_W...  \n",
      "20325  ./grazpedwri/images_part4/6093_0885712402_01_W...  \n",
      "\n",
      "[10086 rows x 5 columns]\n"
     ]
    }
   ],
   "source": [
    "path_part1 = \"./grazpedwri/images_part1/\"\n",
    "path_part2 = \"./grazpedwri/images_part2/\"\n",
    "path_part3 = \"./grazpedwri/images_part3/\"\n",
    "path_part4 = \"./grazpedwri/images_part4/\"\n",
    "\n",
    "conditions = [\n",
    "    df_train[\"patient_id\"] <= 1499,\n",
    "    df_train[\"patient_id\"].between(1500, 2999),\n",
    "    df_train[\"patient_id\"].between(3000, 4499),\n",
    "    df_train[\"patient_id\"] >= 4500\n",
    "]\n",
    "\n",
    "choices = [path_part1, path_part2, path_part3, path_part4]\n",
    "df_train[\"path\"] = np.select(conditions, choices) + df_train[\"filestem\"].astype(str) + \".png\"\n",
    "df_train = df_train.drop(columns=[\"filestem\"])\n",
    "print(df_train)"
   ]
  },
  {
   "cell_type": "code",
   "execution_count": 103,
   "id": "9af9ddaf",
   "metadata": {},
   "outputs": [],
   "source": [
    "df_train[\"source\"] = \"grazpedwri\"\n",
    "df_train[\"filename\"] = None"
   ]
  },
  {
   "cell_type": "code",
   "execution_count": 104,
   "id": "20434634",
   "metadata": {},
   "outputs": [],
   "source": [
    "df_train = df_train.rename(columns={\n",
    "    \"patient_id\": \"id\",\n",
    "    \"age\": \"boneage\"\n",
    "})\n",
    "df_train = df_train[[\"id\", \"boneage\", \"male\", \"left\", \"source\", \"path\", \"filename\"]]"
   ]
  },
  {
   "cell_type": "code",
   "execution_count": 105,
   "id": "f96cf1f7",
   "metadata": {},
   "outputs": [],
   "source": [
    "df_train.to_csv(\"./grazpedwri_dataset.csv\", index=False)"
   ]
  },
  {
   "cell_type": "markdown",
   "id": "3b28de33",
   "metadata": {},
   "source": [
    "### **RHPE DATASET PREPROCESSING**"
   ]
  },
  {
   "cell_type": "code",
   "execution_count": 106,
   "id": "bd592189",
   "metadata": {},
   "outputs": [],
   "source": [
    "# 1 - 5496: train folder\n",
    "# 5497 - 6212: valuation folder"
   ]
  },
  {
   "cell_type": "code",
   "execution_count": 107,
   "id": "9d8a5a55",
   "metadata": {},
   "outputs": [
    {
     "name": "stdout",
     "output_type": "stream",
     "text": [
      "Total: 6204\n",
      "Training lenght: 5491\n",
      "Test lenght: 713\n",
      "Proportion training set: 0.8850741457124436\n",
      "Proportion validation set: 0.11492585428755642\n"
     ]
    }
   ],
   "source": [
    "path_RHPE_train = \"./RHPE/RHPE_Annotations/RHPE_Boneage_train.csv\"\n",
    "path_RHPE_validation = \"./RHPE/RHPE_Annotations/RHPE_Boneage_val.csv\"\n",
    "df_train = pd.read_csv(path_RHPE_train)\n",
    "df_val = pd.read_csv(path_RHPE_validation)\n",
    "\n",
    "total = len(df_train) + len(df_val)\n",
    "print(f\"Total: {total}\")\n",
    "print(f\"Training lenght: {len(df_train)}\")\n",
    "print(f\"Test lenght: {len(df_val)}\")\n",
    "\n",
    "print(f\"Proportion training set: {len(df_train)/total}\")\n",
    "print(f\"Proportion validation set: {len(df_val)/total}\")"
   ]
  },
  {
   "cell_type": "code",
   "execution_count": 108,
   "id": "cadc69fb",
   "metadata": {},
   "outputs": [],
   "source": [
    "df_rhpe_left_hands = pd.concat([df_train, df_val])\n",
    "\n",
    "df_rhpe_left_hands[\"left\"] = True\n",
    "\n",
    "df_rhpe_right_hands = df_rhpe_left_hands.copy()\n",
    "df_rhpe_right_hands[\"left\"] = False\n",
    "\n",
    "df_rhpe = pd.DataFrame(\n",
    "    [row for pair in zip(df_rhpe_left_hands.iterrows(), df_rhpe_right_hands.iterrows()) for _, row in pair]\n",
    ").reset_index(drop=True)"
   ]
  },
  {
   "cell_type": "code",
   "execution_count": 109,
   "id": "b52e4f8d",
   "metadata": {},
   "outputs": [],
   "source": [
    "df_rhpe = df_rhpe.drop(columns=[\"Chronological\"])\n",
    "df_rhpe[\"source\"] = \"rhpe\"\n",
    "df_rhpe[\"path\"] = None\n",
    "\n",
    "df_rhpe = df_rhpe.rename(columns={\n",
    "    \"ID\": \"id\",\n",
    "    \"Male\": \"male\",\n",
    "    \"Boneage\": \"boneage\"\n",
    "})\n",
    "df_rhpe = df_rhpe[[\"id\", \"boneage\", \"male\", \"left\", \"source\", \"path\"]]"
   ]
  },
  {
   "cell_type": "code",
   "execution_count": 110,
   "id": "02cf4748",
   "metadata": {},
   "outputs": [
    {
     "name": "stdout",
     "output_type": "stream",
     "text": [
      "New total: 12408\n"
     ]
    }
   ],
   "source": [
    "print(f\"New total: {len(df_rhpe)}\")"
   ]
  },
  {
   "cell_type": "code",
   "execution_count": 111,
   "id": "753f5d84",
   "metadata": {},
   "outputs": [],
   "source": [
    "def choose_path(row, base_path_train, base_path_val):\n",
    "    base_path = base_path_train if row[\"id\"] <= 5496 else base_path_val\n",
    "    return os.path.join(base_path, row[\"filename\"])"
   ]
  },
  {
   "cell_type": "code",
   "execution_count": 112,
   "id": "07c8416c",
   "metadata": {},
   "outputs": [],
   "source": [
    "base_path_train = \"./RHPE/train/RHPE_train/\"\n",
    "base_path_val = \"./RHPE/val/RHPE_val/\"\n",
    "\n",
    "df_rhpe[\"filename\"] = df_rhpe[\"id\"].apply(lambda x: f\"{int(x):05d}.png\")\n",
    "\n",
    "df_rhpe[\"path\"] = df_rhpe.apply(lambda row: choose_path(row, base_path_train, base_path_val), axis=1)"
   ]
  },
  {
   "cell_type": "code",
   "execution_count": 113,
   "id": "93ad9d73",
   "metadata": {},
   "outputs": [],
   "source": [
    "df_rhpe.to_csv(\"./rhpe_dataset.csv\", index=False)"
   ]
  },
  {
   "cell_type": "markdown",
   "id": "8a05d503",
   "metadata": {},
   "source": [
    "### **Divide training set and validation set**"
   ]
  },
  {
   "cell_type": "code",
   "execution_count": 116,
   "id": "c01a4fa9",
   "metadata": {},
   "outputs": [],
   "source": [
    "from sklearn.model_selection import train_test_split"
   ]
  },
  {
   "cell_type": "code",
   "execution_count": 118,
   "id": "b8ad3c5b",
   "metadata": {},
   "outputs": [],
   "source": [
    "df_rsna = pd.read_csv(\"./rsna_dataset.csv\")\n",
    "df_grazpedwri = pd.read_csv(\"./grazpedwri_dataset.csv\")\n",
    "df_rhpe = pd.read_csv(\"./rhpe_dataset.csv\")\n",
    "\n",
    "df_rsna_train, df_rsna_val = train_test_split(df_rsna, test_size=0.2, random_state=42, shuffle=True)\n",
    "df_grazpedwri_train, df_grazpedwri_val = train_test_split(df_grazpedwri, test_size=0.2, random_state=42, shuffle=True)\n",
    "df_rhpe_train, df_rhpe_val = train_test_split(df_rhpe, test_size=0.2, random_state=42, shuffle=True)\n",
    "\n",
    "df_train =  pd.concat([df_rsna_train, df_grazpedwri_train, df_rhpe_train])\n",
    "df_val = pd.concat([df_rsna_val, df_grazpedwri_val, df_rhpe_val])\n",
    "\n",
    "df_train = df_train.sample(frac=1, random_state=42).reset_index(drop=True)\n",
    "df_val = df_val.sample(frac=1, random_state=42).reset_index(drop=True)\n",
    "\n",
    "df_train.to_csv(\"./training_set.csv\", index=False)\n",
    "df_val.to_csv(\"./validation_set.csv\", index=False)"
   ]
  }
 ],
 "metadata": {
  "kernelspec": {
   "display_name": "Python (pytorch-env)",
   "language": "python",
   "name": "pytorch-env"
  },
  "language_info": {
   "codemirror_mode": {
    "name": "ipython",
    "version": 3
   },
   "file_extension": ".py",
   "mimetype": "text/x-python",
   "name": "python",
   "nbconvert_exporter": "python",
   "pygments_lexer": "ipython3",
   "version": "3.9.21"
  }
 },
 "nbformat": 4,
 "nbformat_minor": 5
}
