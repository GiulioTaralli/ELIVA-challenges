{
  "cells": [
    {
      "cell_type": "code",
      "execution_count": 1,
      "metadata": {},
      "outputs": [],
      "source": [
        "# Global variable to run code on colab or locally\n",
        "COLAB = False"
      ]
    },
    {
      "cell_type": "code",
      "execution_count": 2,
      "metadata": {
        "colab": {
          "base_uri": "https://localhost:8080/"
        },
        "id": "3eXYI-tUQrJz",
        "outputId": "9d498a85-f014-47ab-c1c3-b51beee11fa0"
      },
      "outputs": [],
      "source": [
        "if COLAB:\n",
        "    !pip install efficientnet_pytorch"
      ]
    },
    {
      "cell_type": "code",
      "execution_count": 3,
      "metadata": {
        "id": "yrS3NsL0QuwK"
      },
      "outputs": [],
      "source": [
        "import torch\n",
        "import torch.nn as nn\n",
        "from efficientnet_pytorch import EfficientNet\n",
        "from torch.utils.data import Dataset\n",
        "from PIL import Image\n",
        "import pandas as pd\n",
        "import os\n",
        "from torchvision import transforms\n",
        "from torch.utils.data import random_split, DataLoader\n",
        "import torch.optim as optim\n",
        "import zipfile\n",
        "import matplotlib.pyplot as plt\n",
        "from sklearn.metrics import mean_absolute_error, mean_squared_error, r2_score\n",
        "from torch.optim.lr_scheduler import ReduceLROnPlateau\n",
        "import time\n",
        "import math"
      ]
    },
    {
      "cell_type": "code",
      "execution_count": 4,
      "metadata": {
        "colab": {
          "base_uri": "https://localhost:8080/"
        },
        "id": "_DLwPkaScuy_",
        "outputId": "902fec2e-b4fa-405a-e759-ac26d904f667"
      },
      "outputs": [
        {
          "name": "stdout",
          "output_type": "stream",
          "text": [
            "Parallel process available: 8\n"
          ]
        }
      ],
      "source": [
        "print(f\"Parallel process available: {os.cpu_count()}\")"
      ]
    },
    {
      "cell_type": "code",
      "execution_count": 6,
      "metadata": {},
      "outputs": [
        {
          "data": {
            "text/plain": [
              "'cuda'"
            ]
          },
          "execution_count": 6,
          "metadata": {},
          "output_type": "execute_result"
        }
      ],
      "source": [
        "# Make device agnostic code\n",
        "device = \"cuda\" if torch.cuda.is_available() else \"cpu\"\n",
        "device"
      ]
    },
    {
      "cell_type": "code",
      "execution_count": 5,
      "metadata": {
        "colab": {
          "base_uri": "https://localhost:8080/"
        },
        "id": "i0fX9xNXQxqD",
        "outputId": "8f25e972-edb4-489c-87b0-1f7b9445e0e0"
      },
      "outputs": [],
      "source": [
        "if COLAB:\n",
        "    from google.colab import drive\n",
        "    drive.mount('/content/drive')\n",
        "\n",
        "    # about 3 min\n",
        "    import zipfile\n",
        "\n",
        "    zip_path = \"/content/drive/MyDrive/archive.zip\"\n",
        "    extract_path = \"/content/archive_unzipped\"\n",
        "\n",
        "    with zipfile.ZipFile(zip_path, 'r') as zip_ref:\n",
        "        zip_ref.extractall(extract_path)"
      ]
    },
    {
      "cell_type": "code",
      "execution_count": 7,
      "metadata": {
        "id": "zU5uipfgT9iI"
      },
      "outputs": [],
      "source": [
        "class BoneAgeDataset(Dataset):\n",
        "    def __init__(self, csv_path, image_dir, transform=None):\n",
        "        self.df = pd.read_csv(csv_path)\n",
        "        self.image_dir = image_dir\n",
        "        self.transform = transform\n",
        "        self.sex_map = {\"True\": 0, \"False\": 1}\n",
        "\n",
        "    def __len__(self):\n",
        "        return len(self.df)\n",
        "\n",
        "    def __getitem__(self, idx):\n",
        "        row = self.df.iloc[idx]\n",
        "        img_path = os.path.join(self.image_dir, str(row['id']))\n",
        "        img_path_ext = img_path + \".png\"\n",
        "        image = Image.open(img_path_ext).convert(\"RGB\")\n",
        "        if self.transform:\n",
        "            image = self.transform(image)\n",
        "\n",
        "        #print(self.sex_map[str(row[\"male\"])])\n",
        "        sex = self.sex_map[str(row[\"male\"])]\n",
        "        age = row['boneage']\n",
        "\n",
        "        return image, torch.tensor(sex), torch.tensor(age).float(), str(row['id'])"
      ]
    },
    {
      "cell_type": "code",
      "execution_count": 8,
      "metadata": {
        "id": "3Onp5btiU25I"
      },
      "outputs": [],
      "source": [
        "# do not use ATM this class\n",
        "class TestBoneAgeDataset(Dataset):\n",
        "    def __init__(self, csv_path, image_dir, transform=None):\n",
        "        self.df = pd.read_csv(csv_path)\n",
        "        self.image_dir = image_dir\n",
        "        self.transform = transform\n",
        "        self.sex_map = {\"TRUE\": 0, \"FALSE\": 1}\n",
        "\n",
        "    def __len__(self):\n",
        "        return len(self.df)\n",
        "\n",
        "    def __getitem__(self, idx):\n",
        "        row = self.df.iloc[idx]\n",
        "        img_path = os.path.join(self.image_dir, str(row['id']))\n",
        "        print(f\"IMMAGINE: {img_path}\")\n",
        "        image = Image.open(img_path).convert(\"RGB\")\n",
        "        if self.transform:\n",
        "            image = self.transform(image)\n",
        "\n",
        "        #print(self.sex_map[str(row[\"male\"])])\n",
        "        sex = self.sex_map[str(row[\"male\"]).upper()]\n",
        "\n",
        "        return image, torch.tensor(sex), str(row['id'])"
      ]
    },
    {
      "cell_type": "code",
      "execution_count": 9,
      "metadata": {
        "id": "e7np4hg8UEyY"
      },
      "outputs": [],
      "source": [
        "transform = transforms.Compose([\n",
        "    transforms.Resize((224, 224)),\n",
        "    transforms.ToTensor(),\n",
        "    transforms.Normalize(mean=[0.485, 0.456, 0.406],\n",
        "                         std=[0.229, 0.224, 0.225])\n",
        "])"
      ]
    },
    {
      "cell_type": "code",
      "execution_count": 10,
      "metadata": {
        "id": "q1Hf2ABKUU_y"
      },
      "outputs": [],
      "source": [
        "class BoneAgeRegressor(nn.Module):\n",
        "    def __init__(self):\n",
        "        super().__init__()\n",
        "        self.backbone = EfficientNet.from_pretrained('efficientnet-b0')\n",
        "        for param in self.backbone.parameters():\n",
        "            param.requires_grad = False\n",
        "\n",
        "        self.backbone._fc = nn.Identity()\n",
        "        self.fc = nn.Sequential(\n",
        "            nn.Linear(1280 + 1, 128),  # 1280 = output di EfficientNet-B0\n",
        "            nn.ReLU(),\n",
        "            nn.Dropout(0.1),\n",
        "            nn.Linear(128, 1)  # Output: età in mesi\n",
        "        )\n",
        "\n",
        "    def forward(self, image, sex):\n",
        "        x = self.backbone(image)\n",
        "        sex = sex.view(-1, 1).float()\n",
        "        x = torch.cat([x, sex], dim=1)\n",
        "        return self.fc(x)"
      ]
    },
    {
      "cell_type": "code",
      "execution_count": 11,
      "metadata": {
        "id": "1anzaZ6ZUOqg"
      },
      "outputs": [],
      "source": [
        "if COLAB:\n",
        "    dataset = BoneAgeDataset(csv_path=\"/content/archive_unzipped/boneage-training-dataset.csv\",\n",
        "                         image_dir=\"/content/archive_unzipped/boneage-training-dataset/boneage-training-dataset\",\n",
        "                         transform=transform)\n",
        "else:\n",
        "    dataset = BoneAgeDataset(csv_path=\"rsna-bone-age/boneage-training-dataset.csv\",\n",
        "                         image_dir=\"rsna-bone-age/boneage-training-dataset/boneage-training-dataset\",\n",
        "                         transform=transform)\n",
        "\n",
        "\n",
        "total_size = len(dataset)\n",
        "train_size = int(0.8 * total_size)\n",
        "val_size = int(0.1 * total_size)\n",
        "test_size = total_size - train_size - val_size\n",
        "\n",
        "train_dataset, val_dataset, test_dataset = random_split(dataset, [train_size, val_size, test_size])\n",
        "\n",
        "train_loader = DataLoader(train_dataset, batch_size=32, shuffle=True, num_workers=os.cpu_count(), pin_memory=True)\n",
        "val_loader = DataLoader(val_dataset, batch_size=32, num_workers=os.cpu_count(), pin_memory=True)\n",
        "test_loader = DataLoader(test_dataset, batch_size=32, num_workers=os.cpu_count(), pin_memory=True)"
      ]
    },
    {
      "cell_type": "code",
      "execution_count": null,
      "metadata": {
        "id": "bQXXWcKeUpiM"
      },
      "outputs": [],
      "source": [
        "def train_model(model, train_loader, val_loader, criterion, optimizer, scheduler,\n",
        "                num_epochs=50, save_path='best_model.pth', patience=10):\n",
        "    best_val_loss = float('inf')\n",
        "    train_losses, val_losses = [], []\n",
        "    patience_counter = 0\n",
        "\n",
        "    for epoch in range(num_epochs):\n",
        "        epoch_start = time.time()\n",
        "        model.train()\n",
        "        running_loss = 0.0\n",
        "        for images, sexes, ages, _ in train_loader:\n",
        "            images, sexes, ages = images.to(device), sexes.to(device), ages.to(device).view(-1, 1)\n",
        "            optimizer.zero_grad()\n",
        "            loss = criterion(model(images, sexes), ages)\n",
        "            loss.backward()\n",
        "            optimizer.step()\n",
        "            running_loss += loss.item() * images.size(0)\n",
        "        train_loss = running_loss / len(train_loader.dataset)\n",
        "        train_losses.append(train_loss)\n",
        "\n",
        "        model.eval()\n",
        "        val_loss = 0.0\n",
        "        with torch.no_grad():\n",
        "            for images, sexes, ages, _ in val_loader:\n",
        "                images, sexes, ages = images.to(device), sexes.to(device), ages.to(device).view(-1, 1)\n",
        "                val_loss += criterion(model(images, sexes), ages).item() * images.size(0)\n",
        "        val_loss = val_loss / len(val_loader.dataset)\n",
        "        val_losses.append(val_loss)\n",
        "\n",
        "        scheduler.step(val_loss)\n",
        "\n",
        "        epoch_time = time.time() - epoch_start\n",
        "        print(f\"{'-'*100}\")\n",
        "        print(f\"Epoch {epoch+1}, took: {epoch_time:.1f}s: Train MAE {train_loss:.2f} | Val MAE {val_loss:.2f}, Learning rate: {optimizer.param_groups[0]['lr']}\")\n",
        "\n",
        "        if val_loss < best_val_loss:\n",
        "            print(\"Validation loss improved. Model saved.\")\n",
        "            best_val_loss = val_loss\n",
        "            patience_counter = 0\n",
        "            torch.save(model.state_dict(), save_path)\n",
        "        else:\n",
        "            patience_counter += 1\n",
        "            print(f\"Validation loss did not improve. Trigger times: {patience_counter}/{patience}\")\n",
        "            if patience_counter >= patience:\n",
        "                print(\"Early stopping\")\n",
        "                break\n",
        "\n",
        "    # Plot\n",
        "    plt.plot(train_losses, label=\"Train MAE\")\n",
        "    plt.plot(val_losses, label=\"Val MAE\")\n",
        "    plt.legend()\n",
        "    plt.xlabel(\"Epoch\")\n",
        "    plt.ylabel(\"MAE\")\n",
        "    plt.grid()\n",
        "    plt.show()"
      ]
    },
    {
      "cell_type": "code",
      "execution_count": 15,
      "metadata": {
        "id": "FvaDdUsiWL2Q"
      },
      "outputs": [],
      "source": [
        "def predict_test(model, test_loader, output_csv='prediction_test.csv'):\n",
        "    model.eval()\n",
        "    results = []\n",
        "    y_true, y_pred = [], []\n",
        "\n",
        "    with torch.no_grad():\n",
        "        for images, sexes, ages, ids in test_loader:\n",
        "            images, sexes = images.to(device), sexes.to(device)\n",
        "            preds = model(images, sexes).cpu().numpy()\n",
        "            y_pred.extend(preds)\n",
        "            y_true.extend(ages)\n",
        "            for id, pred in zip(ids, preds):\n",
        "                results.append((id, round(float(pred), 2)))\n",
        "\n",
        "    import csv\n",
        "    with open(output_csv, 'w', newline='') as f:\n",
        "        writer = csv.writer(f)\n",
        "        writer.writerow(['id', 'boneage'])\n",
        "        for row in results:\n",
        "            writer.writerow(row)\n",
        "\n",
        "    print(f\"Predizioni salvate in: {output_csv}\")\n",
        "\n",
        "    mae = mean_absolute_error(y_true, y_pred)\n",
        "    rmse = mean_squared_error(y_true, y_pred) ** 0.5\n",
        "    r2 = r2_score(y_true, y_pred)\n",
        "\n",
        "    print(f\"Metriche di valutazione:\")\n",
        "    print(f\"MAE:  {mae:.2f} mesi\")\n",
        "    print(f\"RMSE: {rmse:.2f} mesi\")\n",
        "    print(f\"R²:   {r2:.3f}\")"
      ]
    },
    {
      "cell_type": "code",
      "execution_count": 20,
      "metadata": {
        "id": "UsEWtFbw3DcG"
      },
      "outputs": [],
      "source": [
        "def predict_submission(model, submission_loader, output_csv='submission.csv'):\n",
        "    model.eval()\n",
        "    results = []\n",
        "\n",
        "    with torch.no_grad():\n",
        "        for images, sexes, ids in submission_loader:\n",
        "            images, sexes = images.to(device), sexes.to(device)\n",
        "            preds = model(images, sexes).cpu().numpy()\n",
        "            for id, pred in zip(ids, preds):\n",
        "                results.append((id, round(float(pred), 2)))\n",
        "\n",
        "    import csv\n",
        "    with open(output_csv, 'w', newline='') as f:\n",
        "        writer = csv.writer(f)\n",
        "        writer.writerow(['id', 'boneage'])\n",
        "        for row in results:\n",
        "            writer.writerow(row)\n",
        "\n",
        "    print(f\"Predizioni salvate in: {output_csv}\")"
      ]
    },
    {
      "cell_type": "code",
      "execution_count": 14,
      "metadata": {
        "colab": {
          "base_uri": "https://localhost:8080/",
          "height": 1000
        },
        "id": "GCHa68mvWUzP",
        "outputId": "7430425a-bb0f-4bee-e14e-672190f74fde"
      },
      "outputs": [
        {
          "name": "stdout",
          "output_type": "stream",
          "text": [
            "Loaded pretrained weights for efficientnet-b0\n",
            "modello inizializzato\n",
            "----------------------------------------------------------------------------------------------------\n",
            "Epoch 1, took: 120.6s: Train MAE 55.78 | Val MAE 35.32, Learning rate: 0.001\n",
            "Validation loss improved. Model saved.\n",
            "----------------------------------------------------------------------------------------------------\n",
            "Epoch 2, took: 118.4s: Train MAE 34.04 | Val MAE 29.30, Learning rate: 0.001\n",
            "Validation loss improved. Model saved.\n",
            "----------------------------------------------------------------------------------------------------\n",
            "Epoch 3, took: 117.1s: Train MAE 29.32 | Val MAE 28.10, Learning rate: 0.001\n",
            "Validation loss improved. Model saved.\n",
            "----------------------------------------------------------------------------------------------------\n",
            "Epoch 4, took: 117.8s: Train MAE 27.42 | Val MAE 23.98, Learning rate: 0.001\n",
            "Validation loss improved. Model saved.\n",
            "----------------------------------------------------------------------------------------------------\n",
            "Epoch 5, took: 117.2s: Train MAE 25.97 | Val MAE 22.98, Learning rate: 0.001\n",
            "Validation loss improved. Model saved.\n",
            "----------------------------------------------------------------------------------------------------\n",
            "Epoch 6, took: 117.5s: Train MAE 25.27 | Val MAE 23.18, Learning rate: 0.001\n",
            "Validation loss did not improve. Trigger times: 1/10\n",
            "----------------------------------------------------------------------------------------------------\n",
            "Epoch 7, took: 117.5s: Train MAE 24.65 | Val MAE 21.39, Learning rate: 0.001\n",
            "Validation loss improved. Model saved.\n",
            "----------------------------------------------------------------------------------------------------\n",
            "Epoch 8, took: 119.2s: Train MAE 23.78 | Val MAE 21.76, Learning rate: 0.001\n",
            "Validation loss did not improve. Trigger times: 1/10\n",
            "----------------------------------------------------------------------------------------------------\n",
            "Epoch 9, took: 117.0s: Train MAE 23.54 | Val MAE 20.27, Learning rate: 0.001\n",
            "Validation loss improved. Model saved.\n",
            "----------------------------------------------------------------------------------------------------\n",
            "Epoch 10, took: 119.6s: Train MAE 23.08 | Val MAE 23.16, Learning rate: 0.001\n",
            "Validation loss did not improve. Trigger times: 1/10\n",
            "----------------------------------------------------------------------------------------------------\n",
            "Epoch 11, took: 119.9s: Train MAE 22.47 | Val MAE 20.29, Learning rate: 0.001\n",
            "Validation loss did not improve. Trigger times: 2/10\n",
            "----------------------------------------------------------------------------------------------------\n",
            "Epoch 12, took: 120.8s: Train MAE 22.20 | Val MAE 21.62, Learning rate: 0.001\n",
            "Validation loss did not improve. Trigger times: 3/10\n",
            "----------------------------------------------------------------------------------------------------\n",
            "Epoch 13, took: 118.9s: Train MAE 21.76 | Val MAE 18.93, Learning rate: 0.001\n",
            "Validation loss improved. Model saved.\n",
            "----------------------------------------------------------------------------------------------------\n",
            "Epoch 14, took: 118.8s: Train MAE 21.72 | Val MAE 19.67, Learning rate: 0.001\n",
            "Validation loss did not improve. Trigger times: 1/10\n",
            "----------------------------------------------------------------------------------------------------\n",
            "Epoch 15, took: 119.8s: Train MAE 21.31 | Val MAE 18.31, Learning rate: 0.001\n",
            "Validation loss improved. Model saved.\n",
            "----------------------------------------------------------------------------------------------------\n",
            "Epoch 16, took: 119.3s: Train MAE 20.92 | Val MAE 18.59, Learning rate: 0.001\n",
            "Validation loss did not improve. Trigger times: 1/10\n",
            "----------------------------------------------------------------------------------------------------\n",
            "Epoch 17, took: 121.9s: Train MAE 20.42 | Val MAE 18.35, Learning rate: 0.001\n",
            "Validation loss did not improve. Trigger times: 2/10\n",
            "----------------------------------------------------------------------------------------------------\n",
            "Epoch 18, took: 121.2s: Train MAE 20.50 | Val MAE 18.44, Learning rate: 0.001\n",
            "Validation loss did not improve. Trigger times: 3/10\n",
            "----------------------------------------------------------------------------------------------------\n",
            "Epoch 19, took: 120.5s: Train MAE 20.23 | Val MAE 17.79, Learning rate: 0.001\n",
            "Validation loss improved. Model saved.\n",
            "----------------------------------------------------------------------------------------------------\n",
            "Epoch 20, took: 120.9s: Train MAE 19.76 | Val MAE 17.55, Learning rate: 0.001\n",
            "Validation loss improved. Model saved.\n",
            "----------------------------------------------------------------------------------------------------\n",
            "Epoch 21, took: 117.8s: Train MAE 19.56 | Val MAE 18.24, Learning rate: 0.001\n",
            "Validation loss did not improve. Trigger times: 1/10\n",
            "----------------------------------------------------------------------------------------------------\n",
            "Epoch 22, took: 119.4s: Train MAE 19.42 | Val MAE 17.44, Learning rate: 0.001\n",
            "Validation loss improved. Model saved.\n",
            "----------------------------------------------------------------------------------------------------\n",
            "Epoch 23, took: 119.9s: Train MAE 19.16 | Val MAE 16.84, Learning rate: 0.001\n",
            "Validation loss improved. Model saved.\n",
            "----------------------------------------------------------------------------------------------------\n",
            "Epoch 24, took: 120.3s: Train MAE 19.03 | Val MAE 16.98, Learning rate: 0.001\n",
            "Validation loss did not improve. Trigger times: 1/10\n",
            "----------------------------------------------------------------------------------------------------\n",
            "Epoch 25, took: 119.8s: Train MAE 18.70 | Val MAE 16.96, Learning rate: 0.001\n",
            "Validation loss did not improve. Trigger times: 2/10\n"
          ]
        },
        {
          "data": {
            "image/png": "[encoded data removed]",
            "text/plain": [
              "<Figure size 640x480 with 1 Axes>"
            ]
          },
          "metadata": {},
          "output_type": "display_data"
        }
      ],
      "source": [
        "# Model\n",
        "model = BoneAgeRegressor().to(device)\n",
        "if COLAB:\n",
        "    model = torch.compile(model)\n",
        "print(f\"modello inizializzato\")\n",
        "\n",
        "# Loss, ottimizzatore e scheduler\n",
        "criterion = nn.L1Loss()\n",
        "#optimizer = optim.Adam(model.parameters(), lr=1e-3)\n",
        "optimizer = optim.AdamW(model.parameters(), lr=1e-3, weight_decay=1e-2)\n",
        "scheduler = ReduceLROnPlateau(optimizer, mode='min', factor=0.5, patience=3, cooldown=1, min_lr=1e-8, verbose=True)\n",
        "\n",
        "# Allenamento\n",
        "train_model(model, train_loader, val_loader, criterion, optimizer, scheduler)"
      ]
    },
    {
      "cell_type": "code",
      "execution_count": 16,
      "metadata": {
        "colab": {
          "base_uri": "https://localhost:8080/"
        },
        "id": "kF9RNN7QlyY_",
        "outputId": "9cdfc394-6cb7-4eb8-e72b-e9e6af96e1d0"
      },
      "outputs": [
        {
          "name": "stdout",
          "output_type": "stream",
          "text": [
            "Loaded pretrained weights for efficientnet-b0\n"
          ]
        },
        {
          "name": "stderr",
          "output_type": "stream",
          "text": [
            "/tmp/ipykernel_2747298/1214416790.py:13: DeprecationWarning: Conversion of an array with ndim > 0 to a scalar is deprecated, and will error in future. Ensure you extract a single element from your array before performing this operation. (Deprecated NumPy 1.25.)\n",
            "  results.append((id, round(float(pred), 2)))\n"
          ]
        },
        {
          "name": "stdout",
          "output_type": "stream",
          "text": [
            "Predizioni salvate in: prediction_test.csv\n",
            "Metriche di valutazione:\n",
            "MAE:  15.99 mesi\n",
            "RMSE: 20.82 mesi\n",
            "R²:   0.735\n"
          ]
        }
      ],
      "source": [
        "# Carica miglior modello e predici\n",
        "model_loaded = BoneAgeRegressor().to(device)\n",
        "if COLAB:\n",
        "    model_loaded = torch.compile(model_loaded)\n",
        "model_loaded.load_state_dict(torch.load(\"best_model.pth\"))\n",
        "predict_test(model_loaded, test_loader)"
      ]
    },
    {
      "cell_type": "code",
      "execution_count": 22,
      "metadata": {
        "colab": {
          "base_uri": "https://localhost:8080/"
        },
        "id": "5u44Ox711Cer",
        "outputId": "79c1aedb-279a-4035-f7e4-5090b20ffa70"
      },
      "outputs": [
        {
          "name": "stdout",
          "output_type": "stream",
          "text": [
            "Loaded pretrained weights for efficientnet-b0\n",
            "IMMAGINE: test/1.png\n",
            "IMMAGINE: test/2.png\n",
            "IMMAGINE: test/3.png\n",
            "IMMAGINE: test/4.png\n",
            "IMMAGINE: test/5.png\n",
            "IMMAGINE: test/6.png\n",
            "IMMAGINE: test/7.png\n",
            "IMMAGINE: test/8.png\n",
            "IMMAGINE: test/9.png\n",
            "IMMAGINE: test/10.png\n",
            "IMMAGINE: test/11.png\n",
            "IMMAGINE: test/12.png\n",
            "IMMAGINE: test/13.png\n",
            "IMMAGINE: test/14.png\n",
            "IMMAGINE: test/15.png\n",
            "IMMAGINE: test/16.png\n",
            "IMMAGINE: test/17.png\n",
            "IMMAGINE: test/18.png\n",
            "IMMAGINE: test/19.png\n",
            "IMMAGINE: test/20.png\n",
            "IMMAGINE: test/21.png\n",
            "IMMAGINE: test/22.png\n",
            "IMMAGINE: test/23.png\n",
            "IMMAGINE: test/24.png\n",
            "IMMAGINE: test/25.png\n",
            "IMMAGINE: test/26.png\n",
            "IMMAGINE: test/27.png\n",
            "IMMAGINE: test/28.png\n",
            "IMMAGINE: test/29.png\n",
            "IMMAGINE: test/30.png\n",
            "IMMAGINE: test/31.png\n",
            "IMMAGINE: test/32.png\n",
            "IMMAGINE: test/33.png\n",
            "Predizioni salvate in: submission.csv\n"
          ]
        },
        {
          "name": "stderr",
          "output_type": "stream",
          "text": [
            "/tmp/ipykernel_2747298/4141735002.py:10: DeprecationWarning: Conversion of an array with ndim > 0 to a scalar is deprecated, and will error in future. Ensure you extract a single element from your array before performing this operation. (Deprecated NumPy 1.25.)\n",
            "  results.append((id, round(float(pred), 2)))\n"
          ]
        }
      ],
      "source": [
        "if COLAB:\n",
        "    submission_dataset = TestBoneAgeDataset(csv_path=\"/content/drive/MyDrive/test/test.csv\",\n",
        "                         image_dir=\"/content/drive/MyDrive/test\",\n",
        "                         transform=transform)\n",
        "else:\n",
        "    submission_dataset = TestBoneAgeDataset(csv_path=\"test/test.csv\",\n",
        "                         image_dir=\"test/\",\n",
        "                         transform=transform)\n",
        "    \n",
        "submission_loader = DataLoader(submission_dataset, batch_size=32)\n",
        "model_loaded_1 = BoneAgeRegressor().to(device)\n",
        "if COLAB:\n",
        "    model_loaded_1 = torch.compile(model_loaded_1)\n",
        "\n",
        "model_loaded_1.load_state_dict(torch.load(\"best_model.pth\"))\n",
        "predict_submission(model_loaded_1, submission_loader)"
      ]
    }
  ],
  "metadata": {
    "accelerator": "GPU",
    "colab": {
      "gpuType": "T4",
      "provenance": []
    },
    "kernelspec": {
      "display_name": "Python (pytorch-env)",
      "language": "python",
      "name": "pytorch-env"
    },
    "language_info": {
      "codemirror_mode": {
        "name": "ipython",
        "version": 3
      },
      "file_extension": ".py",
      "mimetype": "text/x-python",
      "name": "python",
      "nbconvert_exporter": "python",
      "pygments_lexer": "ipython3",
      "version": "3.9.21"
    }
  },
  "nbformat": 4,
  "nbformat_minor": 0
}
