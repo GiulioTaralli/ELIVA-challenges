{
  "nbformat": 4,
  "nbformat_minor": 0,
  "metadata": {
    "colab": {
      "provenance": [],
      "gpuType": "T4"
    },
    "kernelspec": {
      "name": "python3",
      "display_name": "Python 3"
    },
    "language_info": {
      "name": "python"
    },
    "accelerator": "GPU"
  },
  "cells": [
    {
      "cell_type": "code",
      "execution_count": 1,
      "metadata": {
        "id": "3eXYI-tUQrJz",
        "colab": {
          "base_uri": "https://localhost:8080/"
        },
        "outputId": "9d498a85-f014-47ab-c1c3-b51beee11fa0"
      },
      "outputs": [
        {
          "output_type": "stream",
          "name": "stdout",
          "text": [
            "Collecting efficientnet_pytorch\n",
            "  Downloading efficientnet_pytorch-0.7.1.tar.gz (21 kB)\n",
            "  Preparing metadata (setup.py) ... \u001b[?25l\u001b[?25hdone\n",
            "Requirement already satisfied: torch in /usr/local/lib/python3.11/dist-packages (from efficientnet_pytorch) (2.6.0+cu124)\n",
            "Requirement already satisfied: filelock in /usr/local/lib/python3.11/dist-packages (from torch->efficientnet_pytorch) (3.18.0)\n",
            "Requirement already satisfied: typing-extensions>=4.10.0 in /usr/local/lib/python3.11/dist-packages (from torch->efficientnet_pytorch) (4.14.1)\n",
            "Requirement already satisfied: networkx in /usr/local/lib/python3.11/dist-packages (from torch->efficientnet_pytorch) (3.5)\n",
            "Requirement already satisfied: jinja2 in /usr/local/lib/python3.11/dist-packages (from torch->efficientnet_pytorch) (3.1.6)\n",
            "Requirement already satisfied: fsspec in /usr/local/lib/python3.11/dist-packages (from torch->efficientnet_pytorch) (2025.3.2)\n",
            "Collecting nvidia-cuda-nvrtc-cu12==12.4.127 (from torch->efficientnet_pytorch)\n",
            "  Downloading nvidia_cuda_nvrtc_cu12-12.4.127-py3-none-manylinux2014_x86_64.whl.metadata (1.5 kB)\n",
            "Collecting nvidia-cuda-runtime-cu12==12.4.127 (from torch->efficientnet_pytorch)\n",
            "  Downloading nvidia_cuda_runtime_cu12-12.4.127-py3-none-manylinux2014_x86_64.whl.metadata (1.5 kB)\n",
            "Collecting nvidia-cuda-cupti-cu12==12.4.127 (from torch->efficientnet_pytorch)\n",
            "  Downloading nvidia_cuda_cupti_cu12-12.4.127-py3-none-manylinux2014_x86_64.whl.metadata (1.6 kB)\n",
            "Collecting nvidia-cudnn-cu12==9.1.0.70 (from torch->efficientnet_pytorch)\n",
            "  Downloading nvidia_cudnn_cu12-9.1.0.70-py3-none-manylinux2014_x86_64.whl.metadata (1.6 kB)\n",
            "Collecting nvidia-cublas-cu12==12.4.5.8 (from torch->efficientnet_pytorch)\n",
            "  Downloading nvidia_cublas_cu12-12.4.5.8-py3-none-manylinux2014_x86_64.whl.metadata (1.5 kB)\n",
            "Collecting nvidia-cufft-cu12==11.2.1.3 (from torch->efficientnet_pytorch)\n",
            "  Downloading nvidia_cufft_cu12-11.2.1.3-py3-none-manylinux2014_x86_64.whl.metadata (1.5 kB)\n",
            "Collecting nvidia-curand-cu12==10.3.5.147 (from torch->efficientnet_pytorch)\n",
            "  Downloading nvidia_curand_cu12-10.3.5.147-py3-none-manylinux2014_x86_64.whl.metadata (1.5 kB)\n",
            "Collecting nvidia-cusolver-cu12==11.6.1.9 (from torch->efficientnet_pytorch)\n",
            "  Downloading nvidia_cusolver_cu12-11.6.1.9-py3-none-manylinux2014_x86_64.whl.metadata (1.6 kB)\n",
            "Collecting nvidia-cusparse-cu12==12.3.1.170 (from torch->efficientnet_pytorch)\n",
            "  Downloading nvidia_cusparse_cu12-12.3.1.170-py3-none-manylinux2014_x86_64.whl.metadata (1.6 kB)\n",
            "Requirement already satisfied: nvidia-cusparselt-cu12==0.6.2 in /usr/local/lib/python3.11/dist-packages (from torch->efficientnet_pytorch) (0.6.2)\n",
            "Requirement already satisfied: nvidia-nccl-cu12==2.21.5 in /usr/local/lib/python3.11/dist-packages (from torch->efficientnet_pytorch) (2.21.5)\n",
            "Requirement already satisfied: nvidia-nvtx-cu12==12.4.127 in /usr/local/lib/python3.11/dist-packages (from torch->efficientnet_pytorch) (12.4.127)\n",
            "Collecting nvidia-nvjitlink-cu12==12.4.127 (from torch->efficientnet_pytorch)\n",
            "  Downloading nvidia_nvjitlink_cu12-12.4.127-py3-none-manylinux2014_x86_64.whl.metadata (1.5 kB)\n",
            "Requirement already satisfied: triton==3.2.0 in /usr/local/lib/python3.11/dist-packages (from torch->efficientnet_pytorch) (3.2.0)\n",
            "Requirement already satisfied: sympy==1.13.1 in /usr/local/lib/python3.11/dist-packages (from torch->efficientnet_pytorch) (1.13.1)\n",
            "Requirement already satisfied: mpmath<1.4,>=1.1.0 in /usr/local/lib/python3.11/dist-packages (from sympy==1.13.1->torch->efficientnet_pytorch) (1.3.0)\n",
            "Requirement already satisfied: MarkupSafe>=2.0 in /usr/local/lib/python3.11/dist-packages (from jinja2->torch->efficientnet_pytorch) (3.0.2)\n",
            "Downloading nvidia_cublas_cu12-12.4.5.8-py3-none-manylinux2014_x86_64.whl (363.4 MB)\n",
            "\u001b[2K   \u001b[90m━━━━━━━━━━━━━━━━━━━━━━━━━━━━━━━━━━━━━━━━\u001b[0m \u001b[32m363.4/363.4 MB\u001b[0m \u001b[31m5.0 MB/s\u001b[0m eta \u001b[36m0:00:00\u001b[0m\n",
            "\u001b[?25hDownloading nvidia_cuda_cupti_cu12-12.4.127-py3-none-manylinux2014_x86_64.whl (13.8 MB)\n",
            "\u001b[2K   \u001b[90m━━━━━━━━━━━━━━━━━━━━━━━━━━━━━━━━━━━━━━━━\u001b[0m \u001b[32m13.8/13.8 MB\u001b[0m \u001b[31m118.7 MB/s\u001b[0m eta \u001b[36m0:00:00\u001b[0m\n",
            "\u001b[?25hDownloading nvidia_cuda_nvrtc_cu12-12.4.127-py3-none-manylinux2014_x86_64.whl (24.6 MB)\n",
            "\u001b[2K   \u001b[90m━━━━━━━━━━━━━━━━━━━━━━━━━━━━━━━━━━━━━━━━\u001b[0m \u001b[32m24.6/24.6 MB\u001b[0m \u001b[31m93.1 MB/s\u001b[0m eta \u001b[36m0:00:00\u001b[0m\n",
            "\u001b[?25hDownloading nvidia_cuda_runtime_cu12-12.4.127-py3-none-manylinux2014_x86_64.whl (883 kB)\n",
            "\u001b[2K   \u001b[90m━━━━━━━━━━━━━━━━━━━━━━━━━━━━━━━━━━━━━━━━\u001b[0m \u001b[32m883.7/883.7 kB\u001b[0m \u001b[31m65.5 MB/s\u001b[0m eta \u001b[36m0:00:00\u001b[0m\n",
            "\u001b[?25hDownloading nvidia_cudnn_cu12-9.1.0.70-py3-none-manylinux2014_x86_64.whl (664.8 MB)\n",
            "\u001b[2K   \u001b[90m━━━━━━━━━━━━━━━━━━━━━━━━━━━━━━━━━━━━━━━━\u001b[0m \u001b[32m664.8/664.8 MB\u001b[0m \u001b[31m2.8 MB/s\u001b[0m eta \u001b[36m0:00:00\u001b[0m\n",
            "\u001b[?25hDownloading nvidia_cufft_cu12-11.2.1.3-py3-none-manylinux2014_x86_64.whl (211.5 MB)\n",
            "\u001b[2K   \u001b[90m━━━━━━━━━━━━━━━━━━━━━━━━━━━━━━━━━━━━━━━━\u001b[0m \u001b[32m211.5/211.5 MB\u001b[0m \u001b[31m6.7 MB/s\u001b[0m eta \u001b[36m0:00:00\u001b[0m\n",
            "\u001b[?25hDownloading nvidia_curand_cu12-10.3.5.147-py3-none-manylinux2014_x86_64.whl (56.3 MB)\n",
            "\u001b[2K   \u001b[90m━━━━━━━━━━━━━━━━━━━━━━━━━━━━━━━━━━━━━━━━\u001b[0m \u001b[32m56.3/56.3 MB\u001b[0m \u001b[31m12.8 MB/s\u001b[0m eta \u001b[36m0:00:00\u001b[0m\n",
            "\u001b[?25hDownloading nvidia_cusolver_cu12-11.6.1.9-py3-none-manylinux2014_x86_64.whl (127.9 MB)\n",
            "\u001b[2K   \u001b[90m━━━━━━━━━━━━━━━━━━━━━━━━━━━━━━━━━━━━━━━━\u001b[0m \u001b[32m127.9/127.9 MB\u001b[0m \u001b[31m8.4 MB/s\u001b[0m eta \u001b[36m0:00:00\u001b[0m\n",
            "\u001b[?25hDownloading nvidia_cusparse_cu12-12.3.1.170-py3-none-manylinux2014_x86_64.whl (207.5 MB)\n",
            "\u001b[2K   \u001b[90m━━━━━━━━━━━━━━━━━━━━━━━━━━━━━━━━━━━━━━━━\u001b[0m \u001b[32m207.5/207.5 MB\u001b[0m \u001b[31m6.1 MB/s\u001b[0m eta \u001b[36m0:00:00\u001b[0m\n",
            "\u001b[?25hDownloading nvidia_nvjitlink_cu12-12.4.127-py3-none-manylinux2014_x86_64.whl (21.1 MB)\n",
            "\u001b[2K   \u001b[90m━━━━━━━━━━━━━━━━━━━━━━━━━━━━━━━━━━━━━━━━\u001b[0m \u001b[32m21.1/21.1 MB\u001b[0m \u001b[31m55.1 MB/s\u001b[0m eta \u001b[36m0:00:00\u001b[0m\n",
            "\u001b[?25hBuilding wheels for collected packages: efficientnet_pytorch\n",
            "  Building wheel for efficientnet_pytorch (setup.py) ... \u001b[?25l\u001b[?25hdone\n",
            "  Created wheel for efficientnet_pytorch: filename=efficientnet_pytorch-0.7.1-py3-none-any.whl size=16426 sha256=2737a6e2aa4d8fc0adecf1f414921dff66891163b62ec0f751bc5ebdb7c551a5\n",
            "  Stored in directory: /root/.cache/pip/wheels/8b/6f/9b/231a832f811ab6ebb1b32455b177ffc6b8b1cd8de19de70c09\n",
            "Successfully built efficientnet_pytorch\n",
            "Installing collected packages: nvidia-nvjitlink-cu12, nvidia-curand-cu12, nvidia-cufft-cu12, nvidia-cuda-runtime-cu12, nvidia-cuda-nvrtc-cu12, nvidia-cuda-cupti-cu12, nvidia-cublas-cu12, nvidia-cusparse-cu12, nvidia-cudnn-cu12, nvidia-cusolver-cu12, efficientnet_pytorch\n",
            "  Attempting uninstall: nvidia-nvjitlink-cu12\n",
            "    Found existing installation: nvidia-nvjitlink-cu12 12.5.82\n",
            "    Uninstalling nvidia-nvjitlink-cu12-12.5.82:\n",
            "      Successfully uninstalled nvidia-nvjitlink-cu12-12.5.82\n",
            "  Attempting uninstall: nvidia-curand-cu12\n",
            "    Found existing installation: nvidia-curand-cu12 10.3.6.82\n",
            "    Uninstalling nvidia-curand-cu12-10.3.6.82:\n",
            "      Successfully uninstalled nvidia-curand-cu12-10.3.6.82\n",
            "  Attempting uninstall: nvidia-cufft-cu12\n",
            "    Found existing installation: nvidia-cufft-cu12 11.2.3.61\n",
            "    Uninstalling nvidia-cufft-cu12-11.2.3.61:\n",
            "      Successfully uninstalled nvidia-cufft-cu12-11.2.3.61\n",
            "  Attempting uninstall: nvidia-cuda-runtime-cu12\n",
            "    Found existing installation: nvidia-cuda-runtime-cu12 12.5.82\n",
            "    Uninstalling nvidia-cuda-runtime-cu12-12.5.82:\n",
            "      Successfully uninstalled nvidia-cuda-runtime-cu12-12.5.82\n",
            "  Attempting uninstall: nvidia-cuda-nvrtc-cu12\n",
            "    Found existing installation: nvidia-cuda-nvrtc-cu12 12.5.82\n",
            "    Uninstalling nvidia-cuda-nvrtc-cu12-12.5.82:\n",
            "      Successfully uninstalled nvidia-cuda-nvrtc-cu12-12.5.82\n",
            "  Attempting uninstall: nvidia-cuda-cupti-cu12\n",
            "    Found existing installation: nvidia-cuda-cupti-cu12 12.5.82\n",
            "    Uninstalling nvidia-cuda-cupti-cu12-12.5.82:\n",
            "      Successfully uninstalled nvidia-cuda-cupti-cu12-12.5.82\n",
            "  Attempting uninstall: nvidia-cublas-cu12\n",
            "    Found existing installation: nvidia-cublas-cu12 12.5.3.2\n",
            "    Uninstalling nvidia-cublas-cu12-12.5.3.2:\n",
            "      Successfully uninstalled nvidia-cublas-cu12-12.5.3.2\n",
            "  Attempting uninstall: nvidia-cusparse-cu12\n",
            "    Found existing installation: nvidia-cusparse-cu12 12.5.1.3\n",
            "    Uninstalling nvidia-cusparse-cu12-12.5.1.3:\n",
            "      Successfully uninstalled nvidia-cusparse-cu12-12.5.1.3\n",
            "  Attempting uninstall: nvidia-cudnn-cu12\n",
            "    Found existing installation: nvidia-cudnn-cu12 9.3.0.75\n",
            "    Uninstalling nvidia-cudnn-cu12-9.3.0.75:\n",
            "      Successfully uninstalled nvidia-cudnn-cu12-9.3.0.75\n",
            "  Attempting uninstall: nvidia-cusolver-cu12\n",
            "    Found existing installation: nvidia-cusolver-cu12 11.6.3.83\n",
            "    Uninstalling nvidia-cusolver-cu12-11.6.3.83:\n",
            "      Successfully uninstalled nvidia-cusolver-cu12-11.6.3.83\n",
            "Successfully installed efficientnet_pytorch-0.7.1 nvidia-cublas-cu12-12.4.5.8 nvidia-cuda-cupti-cu12-12.4.127 nvidia-cuda-nvrtc-cu12-12.4.127 nvidia-cuda-runtime-cu12-12.4.127 nvidia-cudnn-cu12-9.1.0.70 nvidia-cufft-cu12-11.2.1.3 nvidia-curand-cu12-10.3.5.147 nvidia-cusolver-cu12-11.6.1.9 nvidia-cusparse-cu12-12.3.1.170 nvidia-nvjitlink-cu12-12.4.127\n"
          ]
        }
      ],
      "source": [
        "!pip install efficientnet_pytorch"
      ]
    },
    {
      "cell_type": "code",
      "source": [
        "import torch\n",
        "import torch.nn as nn\n",
        "from efficientnet_pytorch import EfficientNet\n",
        "from torch.utils.data import Dataset\n",
        "from PIL import Image\n",
        "import pandas as pd\n",
        "import os\n",
        "from torchvision import transforms\n",
        "from torch.utils.data import random_split, DataLoader\n",
        "import torch.optim as optim\n",
        "import zipfile\n",
        "import matplotlib.pyplot as plt\n",
        "from sklearn.metrics import mean_absolute_error, mean_squared_error, r2_score\n",
        "from torch.optim.lr_scheduler import ReduceLROnPlateau\n",
        "import time\n",
        "import math"
      ],
      "metadata": {
        "id": "yrS3NsL0QuwK"
      },
      "execution_count": 16,
      "outputs": []
    },
    {
      "cell_type": "code",
      "source": [
        "print(f\"Parallel process available: {os.cpu_count()}\")"
      ],
      "metadata": {
        "colab": {
          "base_uri": "https://localhost:8080/"
        },
        "id": "_DLwPkaScuy_",
        "outputId": "902fec2e-b4fa-405a-e759-ac26d904f667"
      },
      "execution_count": 3,
      "outputs": [
        {
          "output_type": "stream",
          "name": "stdout",
          "text": [
            "Parallel process available: 2\n"
          ]
        }
      ]
    },
    {
      "cell_type": "code",
      "source": [
        "from google.colab import drive\n",
        "drive.mount('/content/drive')"
      ],
      "metadata": {
        "id": "i0fX9xNXQxqD",
        "colab": {
          "base_uri": "https://localhost:8080/"
        },
        "outputId": "8f25e972-edb4-489c-87b0-1f7b9445e0e0"
      },
      "execution_count": 4,
      "outputs": [
        {
          "output_type": "stream",
          "name": "stdout",
          "text": [
            "Mounted at /content/drive\n"
          ]
        }
      ]
    },
    {
      "cell_type": "code",
      "source": [
        "# about 3 min\n",
        "import zipfile\n",
        "\n",
        "zip_path = \"/content/drive/MyDrive/archive.zip\"\n",
        "extract_path = \"/content/archive_unzipped\"\n",
        "\n",
        "with zipfile.ZipFile(zip_path, 'r') as zip_ref:\n",
        "    zip_ref.extractall(extract_path)"
      ],
      "metadata": {
        "id": "wdsjqE3HVlrd"
      },
      "execution_count": 5,
      "outputs": []
    },
    {
      "cell_type": "code",
      "source": [
        "class BoneAgeDataset(Dataset):\n",
        "    def __init__(self, csv_path, image_dir, transform=None):\n",
        "        self.df = pd.read_csv(csv_path)\n",
        "        self.image_dir = image_dir\n",
        "        self.transform = transform\n",
        "        self.sex_map = {\"True\": 0, \"False\": 1}\n",
        "\n",
        "    def __len__(self):\n",
        "        return len(self.df)\n",
        "\n",
        "    def __getitem__(self, idx):\n",
        "        row = self.df.iloc[idx]\n",
        "        img_path = os.path.join(self.image_dir, str(row['id']))\n",
        "        img_path_ext = img_path + \".png\"\n",
        "        image = Image.open(img_path_ext).convert(\"RGB\")\n",
        "        if self.transform:\n",
        "            image = self.transform(image)\n",
        "\n",
        "        #print(self.sex_map[str(row[\"male\"])])\n",
        "        sex = self.sex_map[str(row[\"male\"])]\n",
        "        age = row['boneage']\n",
        "\n",
        "        return image, torch.tensor(sex), torch.tensor(age).float(), str(row['id'])"
      ],
      "metadata": {
        "id": "zU5uipfgT9iI"
      },
      "execution_count": 26,
      "outputs": []
    },
    {
      "cell_type": "code",
      "source": [
        "# do not use ATM this class\n",
        "class TestBoneAgeDataset(Dataset):\n",
        "    def __init__(self, csv_path, image_dir, transform=None):\n",
        "        self.df = pd.read_csv(csv_path)\n",
        "        self.image_dir = image_dir\n",
        "        self.transform = transform\n",
        "        self.sex_map = {\"TRUE\": 0, \"FALSE\": 1}\n",
        "\n",
        "    def __len__(self):\n",
        "        return len(self.df)\n",
        "\n",
        "    def __getitem__(self, idx):\n",
        "        row = self.df.iloc[idx]\n",
        "        img_path = os.path.join(self.image_dir, str(row['id']))\n",
        "        print(f\"IMMAGINE: {img_path}\")\n",
        "        image = Image.open(img_path).convert(\"RGB\")\n",
        "        if self.transform:\n",
        "            image = self.transform(image)\n",
        "\n",
        "        #print(self.sex_map[str(row[\"male\"])])\n",
        "        sex = self.sex_map[str(row[\"male\"]).upper()]\n",
        "\n",
        "        return image, torch.tensor(sex), str(row['id'])"
      ],
      "metadata": {
        "id": "3Onp5btiU25I"
      },
      "execution_count": 27,
      "outputs": []
    },
    {
      "cell_type": "code",
      "source": [
        "transform = transforms.Compose([\n",
        "    transforms.Resize((224, 224)),\n",
        "    transforms.ToTensor(),\n",
        "    transforms.Normalize(mean=[0.485, 0.456, 0.406],\n",
        "                         std=[0.229, 0.224, 0.225])\n",
        "])"
      ],
      "metadata": {
        "id": "e7np4hg8UEyY"
      },
      "execution_count": 28,
      "outputs": []
    },
    {
      "cell_type": "code",
      "source": [
        "class BoneAgeRegressor(nn.Module):\n",
        "    def __init__(self):\n",
        "        super().__init__()\n",
        "        self.backbone = EfficientNet.from_pretrained('efficientnet-b0')\n",
        "        for param in self.backbone.parameters():\n",
        "            param.requires_grad = False\n",
        "\n",
        "        self.backbone._fc = nn.Identity()\n",
        "        self.fc = nn.Sequential(\n",
        "            nn.Linear(1280 + 1, 128),  # 1280 = output di EfficientNet-B0\n",
        "            nn.ReLU(),\n",
        "            nn.Dropout(0.1),\n",
        "            nn.Linear(128, 1)  # Output: età in mesi\n",
        "        )\n",
        "\n",
        "    def forward(self, image, sex):\n",
        "        x = self.backbone(image)\n",
        "        sex = sex.view(-1, 1).float()\n",
        "        x = torch.cat([x, sex], dim=1)\n",
        "        return self.fc(x)"
      ],
      "metadata": {
        "id": "q1Hf2ABKUU_y"
      },
      "execution_count": 29,
      "outputs": []
    },
    {
      "cell_type": "code",
      "source": [
        "dataset = BoneAgeDataset(csv_path=\"/content/archive_unzipped/boneage-training-dataset.csv\",\n",
        "                         image_dir=\"/content/archive_unzipped/boneage-training-dataset/boneage-training-dataset\",\n",
        "                         transform=transform)\n",
        "\n",
        "total_size = len(dataset)\n",
        "train_size = int(0.8 * total_size)\n",
        "val_size = int(0.1 * total_size)\n",
        "test_size = total_size - train_size - val_size\n",
        "\n",
        "train_dataset, val_dataset, test_dataset = random_split(dataset, [train_size, val_size, test_size])\n",
        "\n",
        "train_loader = DataLoader(train_dataset, batch_size=32, shuffle=True, num_workers=2, pin_memory=True)\n",
        "val_loader = DataLoader(val_dataset, batch_size=32, num_workers=2, pin_memory=True)\n",
        "test_loader = DataLoader(test_dataset, batch_size=32, num_workers=2, pin_memory=True)"
      ],
      "metadata": {
        "id": "1anzaZ6ZUOqg"
      },
      "execution_count": 30,
      "outputs": []
    },
    {
      "cell_type": "code",
      "source": [
        "def train_model(model, train_loader, val_loader, criterion, optimizer, scheduler,\n",
        "                num_epochs=25, save_path='best_model.pth', patience=3):\n",
        "    best_val_loss = float('inf')\n",
        "    train_losses, val_losses = [], []\n",
        "    patience_counter = 0\n",
        "\n",
        "    for epoch in range(num_epochs):\n",
        "        epoch_start = time.time()\n",
        "        model.train()\n",
        "        running_loss = 0.0\n",
        "        for images, sexes, ages, _ in train_loader:\n",
        "            images, sexes, ages = images.to(device), sexes.to(device), ages.to(device).view(-1, 1)\n",
        "            optimizer.zero_grad()\n",
        "            loss = criterion(model(images, sexes), ages)\n",
        "            loss.backward()\n",
        "            optimizer.step()\n",
        "            running_loss += loss.item() * images.size(0)\n",
        "        train_loss = running_loss / len(train_loader.dataset)\n",
        "        train_losses.append(train_loss)\n",
        "\n",
        "        model.eval()\n",
        "        val_loss = 0.0\n",
        "        with torch.no_grad():\n",
        "            for images, sexes, ages, _ in val_loader:\n",
        "                images, sexes, ages = images.to(device), sexes.to(device), ages.to(device).view(-1, 1)\n",
        "                val_loss += criterion(model(images, sexes), ages).item() * images.size(0)\n",
        "        val_loss = val_loss / len(val_loader.dataset)\n",
        "        val_losses.append(val_loss)\n",
        "\n",
        "        scheduler.step(val_loss)\n",
        "\n",
        "        epoch_time = time.time() - epoch_start\n",
        "        print(f\"{'-'*100}\")\n",
        "        print(f\"Epoch {epoch+1}, took: {epoch_time:.1f}s: Train MAE {train_loss:.2f} | Val MAE {val_loss:.2f}, Learning rate: {optimizer.param_groups[0]['lr']}\")\n",
        "\n",
        "        if val_loss < best_val_loss:\n",
        "            print(\"Saving best model...\")\n",
        "            best_val_loss = val_loss\n",
        "            patience_counter = 0\n",
        "            torch.save(model.state_dict(), save_path)\n",
        "        else:\n",
        "            patience_counter += 1\n",
        "            if patience_counter >= patience:\n",
        "                print(\"Early stopping\")\n",
        "                break\n",
        "\n",
        "    # Plot\n",
        "    plt.plot(train_losses, label=\"Train MAE\")\n",
        "    plt.plot(val_losses, label=\"Val MAE\")\n",
        "    plt.legend()\n",
        "    plt.xlabel(\"Epoch\")\n",
        "    plt.ylabel(\"MAE\")\n",
        "    plt.grid()\n",
        "    plt.show()"
      ],
      "metadata": {
        "id": "bQXXWcKeUpiM"
      },
      "execution_count": 31,
      "outputs": []
    },
    {
      "cell_type": "code",
      "source": [
        "def predict_test(model, test_loader, output_csv='prediction_test.csv'):\n",
        "    model.eval()\n",
        "    results = []\n",
        "    y_true, y_pred = [], []\n",
        "\n",
        "    with torch.no_grad():\n",
        "        for images, sexes, ages, ids in test_loader:\n",
        "            images, sexes = images.to(device), sexes.to(device)\n",
        "            preds = model(images, sexes).cpu().numpy()\n",
        "            y_pred.extend(preds)\n",
        "            y_true.extend(ages)\n",
        "            for id, pred in zip(ids, preds):\n",
        "                results.append((id, round(float(pred), 2)))\n",
        "\n",
        "    import csv\n",
        "    with open(output_csv, 'w', newline='') as f:\n",
        "        writer = csv.writer(f)\n",
        "        writer.writerow(['id', 'boneage'])\n",
        "        for row in results:\n",
        "            writer.writerow(row)\n",
        "\n",
        "    print(f\"Predizioni salvate in: {output_csv}\")\n",
        "\n",
        "    mae = mean_absolute_error(y_true, y_pred)\n",
        "    rmse = mean_squared_error(y_true, y_pred) ** 0.5\n",
        "    r2 = r2_score(y_true, y_pred)\n",
        "\n",
        "    print(f\"Metriche di valutazione:\")\n",
        "    print(f\"MAE:  {mae:.2f} mesi\")\n",
        "    print(f\"RMSE: {rmse:.2f} mesi\")\n",
        "    print(f\"R²:   {r2:.3f}\")"
      ],
      "metadata": {
        "id": "FvaDdUsiWL2Q"
      },
      "execution_count": 32,
      "outputs": []
    },
    {
      "cell_type": "code",
      "source": [
        "def predict_submission(model, submission_loader, output_csv='submission.csv'):\n",
        "    model.eval()\n",
        "    results = []\n",
        "\n",
        "    with torch.no_grad():\n",
        "        for images, sexes, ids in submission_loader:\n",
        "            images, sexes = images.to(device), sexes.to(device)\n",
        "            preds = model(images, sexes).cpu().numpy()\n",
        "            for id, pred in zip(ids, preds):\n",
        "                results.append((id, round(float(pred), 2)))\n",
        "\n",
        "    import csv\n",
        "    with open(output_csv, 'w', newline='') as f:\n",
        "        writer = csv.writer(f)\n",
        "        writer.writerow(['id', 'boneage'])\n",
        "        for row in results:\n",
        "            writer.writerow(row)\n",
        "\n",
        "    print(f\"Predizioni salvate in: {output_csv}\")"
      ],
      "metadata": {
        "id": "UsEWtFbw3DcG"
      },
      "execution_count": 33,
      "outputs": []
    },
    {
      "cell_type": "code",
      "source": [
        "# Device\n",
        "device = torch.device(\"cuda\" if torch.cuda.is_available() else \"cpu\")\n",
        "print(f\"Device: {device}\")\n",
        "\n",
        "# Model\n",
        "model = BoneAgeRegressor().to(device)\n",
        "model = torch.compile(model)\n",
        "print(f\"modello inizializzato\")\n",
        "\n",
        "# Loss, ottimizzatore e scheduler\n",
        "criterion = nn.L1Loss()\n",
        "#optimizer = optim.Adam(model.parameters(), lr=1e-3)\n",
        "optimizer = optim.AdamW(model.parameters(), lr=1e-3, weight_decay=1e-2)\n",
        "scheduler = ReduceLROnPlateau(optimizer, mode='min', factor=0.5, patience=3, cooldown=1, min_lr=1e-6, verbose=True)\n",
        "\n",
        "# Allenamento\n",
        "train_model(model, train_loader, val_loader, criterion, optimizer, scheduler)"
      ],
      "metadata": {
        "colab": {
          "base_uri": "https://localhost:8080/",
          "height": 1000
        },
        "id": "GCHa68mvWUzP",
        "outputId": "7430425a-bb0f-4bee-e14e-672190f74fde"
      },
      "execution_count": 34,
      "outputs": [
        {
          "output_type": "stream",
          "name": "stdout",
          "text": [
            "Device: cuda\n",
            "Loaded pretrained weights for efficientnet-b0\n",
            "modello inizializzato\n"
          ]
        },
        {
          "output_type": "stream",
          "name": "stderr",
          "text": [
            "/usr/local/lib/python3.11/dist-packages/torch/optim/lr_scheduler.py:62: UserWarning: The verbose parameter is deprecated. Please use get_last_lr() to access the learning rate.\n",
            "  warnings.warn(\n"
          ]
        },
        {
          "output_type": "stream",
          "name": "stdout",
          "text": [
            "----------------------------------------------------------------------------------------------------\n",
            "Epoch 1, took: 489.5s: Train MAE 54.08 | Val MAE 37.03, Learning rate: 0.001\n",
            "Saving best model...\n",
            "----------------------------------------------------------------------------------------------------\n",
            "Epoch 2, took: 418.0s: Train MAE 33.29 | Val MAE 29.68, Learning rate: 0.001\n",
            "Saving best model...\n",
            "----------------------------------------------------------------------------------------------------\n",
            "Epoch 3, took: 416.7s: Train MAE 28.88 | Val MAE 24.97, Learning rate: 0.001\n",
            "Saving best model...\n",
            "----------------------------------------------------------------------------------------------------\n",
            "Epoch 4, took: 416.5s: Train MAE 26.88 | Val MAE 23.85, Learning rate: 0.001\n",
            "Saving best model...\n",
            "----------------------------------------------------------------------------------------------------\n",
            "Epoch 5, took: 414.6s: Train MAE 25.78 | Val MAE 22.82, Learning rate: 0.001\n",
            "Saving best model...\n",
            "----------------------------------------------------------------------------------------------------\n",
            "Epoch 6, took: 416.1s: Train MAE 24.78 | Val MAE 22.24, Learning rate: 0.001\n",
            "Saving best model...\n",
            "----------------------------------------------------------------------------------------------------\n",
            "Epoch 7, took: 416.4s: Train MAE 23.92 | Val MAE 22.40, Learning rate: 0.001\n",
            "----------------------------------------------------------------------------------------------------\n",
            "Epoch 8, took: 415.2s: Train MAE 23.43 | Val MAE 21.18, Learning rate: 0.001\n",
            "Saving best model...\n",
            "----------------------------------------------------------------------------------------------------\n",
            "Epoch 9, took: 420.1s: Train MAE 23.09 | Val MAE 21.81, Learning rate: 0.001\n",
            "----------------------------------------------------------------------------------------------------\n",
            "Epoch 10, took: 418.5s: Train MAE 22.47 | Val MAE 20.55, Learning rate: 0.001\n",
            "Saving best model...\n",
            "----------------------------------------------------------------------------------------------------\n",
            "Epoch 11, took: 417.5s: Train MAE 22.26 | Val MAE 20.04, Learning rate: 0.001\n",
            "Saving best model...\n",
            "----------------------------------------------------------------------------------------------------\n",
            "Epoch 12, took: 416.2s: Train MAE 21.84 | Val MAE 19.15, Learning rate: 0.001\n",
            "Saving best model...\n",
            "----------------------------------------------------------------------------------------------------\n",
            "Epoch 13, took: 416.3s: Train MAE 21.47 | Val MAE 19.30, Learning rate: 0.001\n",
            "----------------------------------------------------------------------------------------------------\n",
            "Epoch 14, took: 416.0s: Train MAE 21.16 | Val MAE 19.16, Learning rate: 0.001\n",
            "----------------------------------------------------------------------------------------------------\n",
            "Epoch 15, took: 416.7s: Train MAE 20.81 | Val MAE 19.42, Learning rate: 0.001\n",
            "Early stopping\n"
          ]
        },
        {
          "output_type": "display_data",
          "data": {
            "text/plain": [
              "<Figure size 640x480 with 1 Axes>"
            ],
            "image/png": "[encoded data removed]"
          },
          "metadata": {}
        }
      ]
    },
    {
      "cell_type": "code",
      "source": [
        "# Carica miglior modello e predici\n",
        "model_loaded = BoneAgeRegressor().to(device)\n",
        "model_loaded = torch.compile(model_loaded)\n",
        "model_loaded.load_state_dict(torch.load(\"best_model.pth\"))\n",
        "predict_test(model_loaded, test_loader)"
      ],
      "metadata": {
        "id": "kF9RNN7QlyY_",
        "colab": {
          "base_uri": "https://localhost:8080/"
        },
        "outputId": "9cdfc394-6cb7-4eb8-e72b-e9e6af96e1d0"
      },
      "execution_count": 39,
      "outputs": [
        {
          "output_type": "stream",
          "name": "stdout",
          "text": [
            "Loaded pretrained weights for efficientnet-b0\n"
          ]
        },
        {
          "output_type": "stream",
          "name": "stderr",
          "text": [
            "/tmp/ipython-input-32-1214416790.py:13: DeprecationWarning: Conversion of an array with ndim > 0 to a scalar is deprecated, and will error in future. Ensure you extract a single element from your array before performing this operation. (Deprecated NumPy 1.25.)\n",
            "  results.append((id, round(float(pred), 2)))\n"
          ]
        },
        {
          "output_type": "stream",
          "name": "stdout",
          "text": [
            "Predizioni salvate in: prediction_test.csv\n",
            "Metriche di valutazione:\n",
            "MAE:  18.03 mesi\n",
            "RMSE: 23.15 mesi\n",
            "R²:   0.684\n"
          ]
        }
      ]
    },
    {
      "cell_type": "code",
      "source": [
        "submission_dataset = TestBoneAgeDataset(csv_path=\"/content/drive/MyDrive/test/test.csv\",\n",
        "                         image_dir=\"/content/drive/MyDrive/test\",\n",
        "                         transform=transform)\n",
        "submission_loader = DataLoader(submission_dataset, batch_size=32)\n",
        "model_loaded_1 = BoneAgeRegressor().to(device)\n",
        "model_loaded_1 = torch.compile(model_loaded_1)\n",
        "model_loaded_1.load_state_dict(torch.load(\"best_model.pth\"))\n",
        "predict_submission(model_loaded_1, submission_loader)"
      ],
      "metadata": {
        "colab": {
          "base_uri": "https://localhost:8080/"
        },
        "id": "5u44Ox711Cer",
        "outputId": "79c1aedb-279a-4035-f7e4-5090b20ffa70"
      },
      "execution_count": 40,
      "outputs": [
        {
          "output_type": "stream",
          "name": "stdout",
          "text": [
            "Loaded pretrained weights for efficientnet-b0\n",
            "IMMAGINE: /content/drive/MyDrive/test/1.png\n",
            "IMMAGINE: /content/drive/MyDrive/test/2.png\n",
            "IMMAGINE: /content/drive/MyDrive/test/3.png\n",
            "IMMAGINE: /content/drive/MyDrive/test/4.png\n",
            "IMMAGINE: /content/drive/MyDrive/test/5.png\n",
            "IMMAGINE: /content/drive/MyDrive/test/6.png\n",
            "IMMAGINE: /content/drive/MyDrive/test/7.png\n",
            "IMMAGINE: /content/drive/MyDrive/test/8.png\n",
            "IMMAGINE: /content/drive/MyDrive/test/9.png\n",
            "IMMAGINE: /content/drive/MyDrive/test/10.png\n",
            "IMMAGINE: /content/drive/MyDrive/test/11.png\n",
            "IMMAGINE: /content/drive/MyDrive/test/12.png\n",
            "IMMAGINE: /content/drive/MyDrive/test/13.png\n",
            "IMMAGINE: /content/drive/MyDrive/test/14.png\n",
            "IMMAGINE: /content/drive/MyDrive/test/15.png\n",
            "IMMAGINE: /content/drive/MyDrive/test/16.png\n",
            "IMMAGINE: /content/drive/MyDrive/test/17.png\n",
            "IMMAGINE: /content/drive/MyDrive/test/18.png\n",
            "IMMAGINE: /content/drive/MyDrive/test/19.png\n",
            "IMMAGINE: /content/drive/MyDrive/test/20.png\n",
            "IMMAGINE: /content/drive/MyDrive/test/21.png\n",
            "IMMAGINE: /content/drive/MyDrive/test/22.png\n",
            "IMMAGINE: /content/drive/MyDrive/test/23.png\n",
            "IMMAGINE: /content/drive/MyDrive/test/24.png\n",
            "IMMAGINE: /content/drive/MyDrive/test/25.png\n",
            "IMMAGINE: /content/drive/MyDrive/test/26.png\n",
            "IMMAGINE: /content/drive/MyDrive/test/27.png\n",
            "IMMAGINE: /content/drive/MyDrive/test/28.png\n",
            "IMMAGINE: /content/drive/MyDrive/test/29.png\n",
            "IMMAGINE: /content/drive/MyDrive/test/30.png\n",
            "IMMAGINE: /content/drive/MyDrive/test/31.png\n",
            "IMMAGINE: /content/drive/MyDrive/test/32.png\n"
          ]
        },
        {
          "output_type": "stream",
          "name": "stderr",
          "text": [
            "/tmp/ipython-input-33-4141735002.py:10: DeprecationWarning: Conversion of an array with ndim > 0 to a scalar is deprecated, and will error in future. Ensure you extract a single element from your array before performing this operation. (Deprecated NumPy 1.25.)\n",
            "  results.append((id, round(float(pred), 2)))\n"
          ]
        },
        {
          "output_type": "stream",
          "name": "stdout",
          "text": [
            "IMMAGINE: /content/drive/MyDrive/test/33.png\n",
            "Predizioni salvate in: submission.csv\n"
          ]
        },
        {
          "output_type": "stream",
          "name": "stderr",
          "text": [
            "/tmp/ipython-input-33-4141735002.py:10: DeprecationWarning: Conversion of an array with ndim > 0 to a scalar is deprecated, and will error in future. Ensure you extract a single element from your array before performing this operation. (Deprecated NumPy 1.25.)\n",
            "  results.append((id, round(float(pred), 2)))\n"
          ]
        }
      ]
    }
  ]
}